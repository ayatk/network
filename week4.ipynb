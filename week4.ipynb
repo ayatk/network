{
 "cells": [
  {
   "cell_type": "markdown",
   "metadata": {},
   "source": [
    "# ネットワーク演習 week3 "
   ]
  },
  {
   "cell_type": "code",
   "execution_count": 1,
   "metadata": {},
   "outputs": [],
   "source": [
    "import serial\n",
    "import time"
   ]
  },
  {
   "cell_type": "code",
   "execution_count": 64,
   "metadata": {},
   "outputs": [],
   "source": [
    "def run(command, wait_time=1):\n",
    "    console.write(bytes(command, 'utf-8') + b'\\r')\n",
    "    time.sleep(wait_time)\n",
    "    print(console.read(console.inWaiting()).decode(\"utf-8\"))"
   ]
  },
  {
   "cell_type": "markdown",
   "metadata": {},
   "source": [
    "## 接続"
   ]
  },
  {
   "cell_type": "code",
   "execution_count": 3,
   "metadata": {
    "scrolled": true
   },
   "outputs": [
    {
     "name": "stdout",
     "output_type": "stream",
     "text": [
      "\r\n",
      "R1>\n"
     ]
    }
   ],
   "source": [
    "console = serial.Serial('/dev/tty.usbserial-FTB539RI', 9200, timeout=0)\n",
    "time.sleep(1)\n",
    "console.write(b'\\r')\n",
    "time.sleep(1)\n",
    "print(console.read(console.inWaiting()).decode(\"utf-8\"))"
   ]
  },
  {
   "cell_type": "markdown",
   "metadata": {},
   "source": [
    "## 手順2 ホスト名の設定"
   ]
  },
  {
   "cell_type": "code",
   "execution_count": 4,
   "metadata": {
    "scrolled": true
   },
   "outputs": [
    {
     "name": "stdout",
     "output_type": "stream",
     "text": [
      "enable\r\n",
      "R1#\n"
     ]
    }
   ],
   "source": [
    "run('enable')"
   ]
  },
  {
   "cell_type": "code",
   "execution_count": 5,
   "metadata": {},
   "outputs": [
    {
     "name": "stdout",
     "output_type": "stream",
     "text": [
      "configure terminal\r\n",
      "Enter configuration commands, one per line.  End with CNTL/Z.\r\n",
      "R1(config)#\n"
     ]
    }
   ],
   "source": [
    "run('configure terminal')"
   ]
  },
  {
   "cell_type": "code",
   "execution_count": 6,
   "metadata": {},
   "outputs": [
    {
     "name": "stdout",
     "output_type": "stream",
     "text": [
      "hostname R1\r\n",
      "R1(config)#\n"
     ]
    }
   ],
   "source": [
    "run('hostname R1')"
   ]
  },
  {
   "cell_type": "markdown",
   "metadata": {},
   "source": [
    "### 手順2.b コンソール パスワードを設定"
   ]
  },
  {
   "cell_type": "code",
   "execution_count": 7,
   "metadata": {
    "scrolled": true
   },
   "outputs": [
    {
     "name": "stdout",
     "output_type": "stream",
     "text": [
      "line console 0\r\n",
      "R1(config-line)#\n"
     ]
    }
   ],
   "source": [
    "run('line console 0')"
   ]
  },
  {
   "cell_type": "code",
   "execution_count": 8,
   "metadata": {},
   "outputs": [
    {
     "name": "stdout",
     "output_type": "stream",
     "text": [
      "password cisco\r\n",
      "R1(config-line)#\n"
     ]
    }
   ],
   "source": [
    "run('password cisco')"
   ]
  },
  {
   "cell_type": "code",
   "execution_count": 9,
   "metadata": {},
   "outputs": [
    {
     "name": "stdout",
     "output_type": "stream",
     "text": [
      "login\r\n",
      "R1(config-line)#\n"
     ]
    }
   ],
   "source": [
    "run('login')"
   ]
  },
  {
   "cell_type": "code",
   "execution_count": 10,
   "metadata": {},
   "outputs": [
    {
     "name": "stdout",
     "output_type": "stream",
     "text": [
      "exit\r\n",
      "R1(config)#\n"
     ]
    }
   ],
   "source": [
    "run('exit')"
   ]
  },
  {
   "cell_type": "markdown",
   "metadata": {},
   "source": [
    "### 手順2.c vty 回線へのパスワードを設定"
   ]
  },
  {
   "cell_type": "code",
   "execution_count": 11,
   "metadata": {},
   "outputs": [
    {
     "name": "stdout",
     "output_type": "stream",
     "text": [
      "line vty 0 4\r\n",
      "R1(config-line)#\n"
     ]
    }
   ],
   "source": [
    "run('line vty 0 4')"
   ]
  },
  {
   "cell_type": "code",
   "execution_count": 12,
   "metadata": {},
   "outputs": [
    {
     "name": "stdout",
     "output_type": "stream",
     "text": [
      "password cisco\r\n",
      "R1(config-line)#\n"
     ]
    }
   ],
   "source": [
    "run('password cisco')"
   ]
  },
  {
   "cell_type": "code",
   "execution_count": 13,
   "metadata": {},
   "outputs": [
    {
     "name": "stdout",
     "output_type": "stream",
     "text": [
      "login\r\n",
      "R1(config-line)#\n"
     ]
    }
   ],
   "source": [
    "run('login')"
   ]
  },
  {
   "cell_type": "code",
   "execution_count": 14,
   "metadata": {},
   "outputs": [
    {
     "name": "stdout",
     "output_type": "stream",
     "text": [
      "exit\r\n",
      "R1(config)#\n"
     ]
    }
   ],
   "source": [
    "run('exit')"
   ]
  },
  {
   "cell_type": "markdown",
   "metadata": {},
   "source": [
    "### 手順2.d enable secret パスワードを設定"
   ]
  },
  {
   "cell_type": "code",
   "execution_count": 15,
   "metadata": {},
   "outputs": [
    {
     "name": "stdout",
     "output_type": "stream",
     "text": [
      "enable password cisco\r\n",
      "R1(config)#\n"
     ]
    }
   ],
   "source": [
    "run('enable password cisco')"
   ]
  },
  {
   "cell_type": "code",
   "execution_count": 16,
   "metadata": {},
   "outputs": [
    {
     "name": "stdout",
     "output_type": "stream",
     "text": [
      "enable secret class\r\n",
      "R1(config)#\n"
     ]
    }
   ],
   "source": [
    "run('enable secret class')"
   ]
  },
  {
   "cell_type": "code",
   "execution_count": 17,
   "metadata": {},
   "outputs": [
    {
     "name": "stdout",
     "output_type": "stream",
     "text": [
      "exit\r\n",
      "R1#\n"
     ]
    }
   ],
   "source": [
    "run('exit')"
   ]
  },
  {
   "cell_type": "markdown",
   "metadata": {},
   "source": [
    "### 手順2.e Message of the Day(MOTD)バナーを設定\n",
    "これはよくわからん…"
   ]
  },
  {
   "cell_type": "code",
   "execution_count": 22,
   "metadata": {},
   "outputs": [
    {
     "name": "stdout",
     "output_type": "stream",
     "text": [
      "banner motd #Unauthorized Use Prohibited#\r\n",
      "R1(config)#\n"
     ]
    }
   ],
   "source": [
    "run('banner motd #Unauthorized Use Prohibited#')"
   ]
  },
  {
   "cell_type": "markdown",
   "metadata": {},
   "source": [
    "### 手順2.f DNSサーバを使いホスト名の解決を無効化する\n",
    "この設定をしないとルータは入力ミスのコマンドをすべてホスト名と見なし、DNSサーバを探して解決しようとするので、プロンプトが見えるまでめっちゃ時間がかかる"
   ]
  },
  {
   "cell_type": "code",
   "execution_count": 23,
   "metadata": {},
   "outputs": [
    {
     "name": "stdout",
     "output_type": "stream",
     "text": [
      "no ip domain lookup\r\n",
      "R1(config)#\n"
     ]
    }
   ],
   "source": [
    "run('no ip domain lookup')"
   ]
  },
  {
   "cell_type": "code",
   "execution_count": 24,
   "metadata": {},
   "outputs": [
    {
     "name": "stdout",
     "output_type": "stream",
     "text": [
      "line console 0\r\n",
      "R1(config-line)#\n"
     ]
    }
   ],
   "source": [
    "run('line console 0')"
   ]
  },
  {
   "cell_type": "code",
   "execution_count": 25,
   "metadata": {},
   "outputs": [
    {
     "name": "stdout",
     "output_type": "stream",
     "text": [
      "logging synchronous\r\n",
      "R1(config-line)#\n"
     ]
    }
   ],
   "source": [
    "run('logging synchronous')"
   ]
  },
  {
   "cell_type": "code",
   "execution_count": 27,
   "metadata": {},
   "outputs": [
    {
     "name": "stdout",
     "output_type": "stream",
     "text": [
      "exit\r\n",
      "R1(config)#\n"
     ]
    }
   ],
   "source": [
    "run('exit')"
   ]
  },
  {
   "cell_type": "code",
   "execution_count": 29,
   "metadata": {},
   "outputs": [
    {
     "name": "stdout",
     "output_type": "stream",
     "text": [
      "exit\r\n",
      "R1#\n"
     ]
    }
   ],
   "source": [
    "run('exit')"
   ]
  },
  {
   "cell_type": "code",
   "execution_count": 30,
   "metadata": {},
   "outputs": [
    {
     "name": "stdout",
     "output_type": "stream",
     "text": [
      "sh run\r\n",
      "Building configuration...\r\n",
      "\r\n",
      "*Oct 16 06:27:49.203: %SYS-5-CONFIG_I: Configured from console by console\r\n",
      "Current configuration : 1300 bytes\r\n",
      "!\r\n",
      "! Last configuration change at 06:27:49 UTC Mon Oct 16 2017\r\n",
      "version 15.3\r\n",
      "service timestamps debug datetime msec\r\n",
      "service timestamps log datetime msec\r\n",
      "no service password-encryption\r\n",
      "!\r\n",
      "hostname R1\r\n",
      "!\r\n",
      "boot-start-marker\r\n",
      "boot-end-marker\r\n",
      "!\r\n",
      "!\r\n",
      "enable secret 5 $1$qT36$FTjH3RRe05qqxiP.oEDMl1\r\n",
      "enable password cisco\r\n",
      "!\r\n",
      "no aaa new-model\r\n",
      "!\r\n",
      "!\r\n",
      "!\r\n",
      "!\r\n",
      " --More-- \n"
     ]
    }
   ],
   "source": [
    "# このコマンドは R1#show running-config の短縮形です\n",
    "run('sh run')"
   ]
  },
  {
   "cell_type": "markdown",
   "metadata": {},
   "source": [
    "## 手順 4:R1 にシリアル インターフェイスを設定する。"
   ]
  },
  {
   "cell_type": "code",
   "execution_count": 32,
   "metadata": {},
   "outputs": [
    {
     "name": "stdout",
     "output_type": "stream",
     "text": [
      "configure terminal\r\n",
      "Enter configuration commands, one per line.  End with CNTL/Z.\r\n",
      "R1(config)#\n"
     ]
    }
   ],
   "source": [
    "run('configure terminal')"
   ]
  },
  {
   "cell_type": "code",
   "execution_count": 34,
   "metadata": {},
   "outputs": [
    {
     "name": "stdout",
     "output_type": "stream",
     "text": [
      "interface serial 0/0/0\r\n",
      "R1(config-if)#\n"
     ]
    }
   ],
   "source": [
    "run('interface serial 0/0/0')"
   ]
  },
  {
   "cell_type": "code",
   "execution_count": 35,
   "metadata": {},
   "outputs": [
    {
     "name": "stdout",
     "output_type": "stream",
     "text": [
      "description WAN link to R2\r\n",
      "R1(config-if)#\n"
     ]
    }
   ],
   "source": [
    "run('description WAN link to R2')"
   ]
  },
  {
   "cell_type": "code",
   "execution_count": 36,
   "metadata": {},
   "outputs": [
    {
     "name": "stdout",
     "output_type": "stream",
     "text": [
      "ip address 172.17.0.1 255.255.0.0\r\n",
      "R1(config-if)#\n"
     ]
    }
   ],
   "source": [
    "run('ip address 172.17.0.1 255.255.0.0')"
   ]
  },
  {
   "cell_type": "code",
   "execution_count": 37,
   "metadata": {},
   "outputs": [
    {
     "name": "stdout",
     "output_type": "stream",
     "text": [
      "clock rate 64000\r\n",
      "R1(config-if)#\n"
     ]
    }
   ],
   "source": [
    "run('clock rate 64000')"
   ]
  },
  {
   "cell_type": "code",
   "execution_count": 38,
   "metadata": {},
   "outputs": [
    {
     "name": "stdout",
     "output_type": "stream",
     "text": [
      "no shutdown\r\n",
      "R1(config-if)#\n"
     ]
    }
   ],
   "source": [
    "run('no shutdown')"
   ]
  },
  {
   "cell_type": "code",
   "execution_count": 39,
   "metadata": {},
   "outputs": [
    {
     "name": "stdout",
     "output_type": "stream",
     "text": [
      "\r\n",
      "*Oct 16 06:32:44.155: %LINK-3-UPDOWN: Interface Serial0/0/0, changed state to up\r\n",
      "*Oct 16 06:32:45.155: %LINEPROTO-5-UPDOWN: Line protocol on Interface Serial0/0/0, changed state to up\r\n",
      "R1(config-if)#exit\r\n",
      "R1(config)#\n"
     ]
    }
   ],
   "source": [
    "run('exit')"
   ]
  },
  {
   "cell_type": "code",
   "execution_count": 40,
   "metadata": {},
   "outputs": [
    {
     "name": "stdout",
     "output_type": "stream",
     "text": [
      "exit\r\n",
      "R1#\n"
     ]
    }
   ],
   "source": [
    "run('exit')"
   ]
  },
  {
   "cell_type": "markdown",
   "metadata": {},
   "source": [
    "## 手順5 R1 のシリアル インターフェイスの情報を表示する。"
   ]
  },
  {
   "cell_type": "code",
   "execution_count": 48,
   "metadata": {},
   "outputs": [
    {
     "name": "stdout",
     "output_type": "stream",
     "text": [
      "show interface serial 0/0/0\r\n",
      "Serial0/0/0 is up, line protocol is up \r\n",
      "  Hardware is WIC MBRD Serial\r\n",
      "  Description: WAN link to R2\r\n",
      "  Internet address is 172.17.0.1/16\r\n",
      "  MTU 1500 bytes, BW 1544 Kbit/sec, DLY 20000 usec, \r\n",
      "     reliability 255/255, txload 1/255, rxload 1/255\r\n",
      "  Encapsulation HDLC, loopback not set\r\n",
      "  Keepalive set (10 sec)\r\n",
      "  Last input 00:00:07, output 00:00:03, output hang never\r\n",
      "  Last clearing of \"show interface\" counters never\r\n",
      "  Input queue: 0/75/0/0 (size/max/drops/flushes); Total output drops: 0\r\n",
      "  Queueing strategy: fifo\r\n",
      "  Output queue: 0/40 (size/max)\r\n",
      "  5 minute input rate 0 bits/sec, 0 packets/sec\r\n",
      "  5 minute output rate 0 bits/sec, 0 packets/sec\r\n",
      "     25 packets input, 1816 bytes, 0 no buffer\r\n",
      "     Received 25 broadcasts (0 IP multicasts)\r\n",
      "     0 runts, 0 giants, 0 throttles \r\n",
      "     0 input errors, 0 CRC, 0 frame, 0 overrun, 0 ignored, 0 abort\r\n",
      "     28 packets output, 2623 bytes, 0 underruns\r\n",
      "     0 output errors, 0 collisions, 4 interface resets\r\n",
      "     0 unknown protocol drop\n"
     ]
    }
   ],
   "source": [
    "run('show interface serial 0/0/0', wait_time=2)"
   ]
  },
  {
   "cell_type": "markdown",
   "metadata": {},
   "source": [
    "## 手順8 pingでｿｲﾔ"
   ]
  },
  {
   "cell_type": "code",
   "execution_count": 50,
   "metadata": {},
   "outputs": [
    {
     "name": "stdout",
     "output_type": "stream",
     "text": [
      "ping 172.17.0.2\r\n",
      "Type escape sequence to abort.\r\n",
      "Sending 5, 100-byte ICMP Echos to 172.17.0.2, timeout is 2 seconds:\r\n",
      "!!!!!\r\n",
      "Success rate is 100 percent (5/5), round-trip min/avg/max = 28/28/28 ms\r\n",
      "R1#\n"
     ]
    }
   ],
   "source": [
    "run('ping 172.17.0.2')"
   ]
  },
  {
   "cell_type": "markdown",
   "metadata": {},
   "source": [
    "## 手順9 GigabitEthernetの設定"
   ]
  },
  {
   "cell_type": "code",
   "execution_count": 51,
   "metadata": {},
   "outputs": [
    {
     "name": "stdout",
     "output_type": "stream",
     "text": [
      "configure terminal\r\n",
      "Enter configuration commands, one per line.  End with CNTL/Z.\r\n",
      "R1(config)#\n"
     ]
    }
   ],
   "source": [
    "run('configure terminal')"
   ]
  },
  {
   "cell_type": "code",
   "execution_count": 52,
   "metadata": {},
   "outputs": [
    {
     "name": "stdout",
     "output_type": "stream",
     "text": [
      "interface GigabitEthernet 0/0\r\n",
      "R1(config-if)#\n"
     ]
    }
   ],
   "source": [
    "run('interface GigabitEthernet 0/0')"
   ]
  },
  {
   "cell_type": "code",
   "execution_count": 53,
   "metadata": {},
   "outputs": [
    {
     "name": "stdout",
     "output_type": "stream",
     "text": [
      "description R1 LAN Default Gateway\r\n",
      "R1(config-if)#\n"
     ]
    }
   ],
   "source": [
    "run('description R1 LAN Default Gateway')"
   ]
  },
  {
   "cell_type": "code",
   "execution_count": 54,
   "metadata": {},
   "outputs": [
    {
     "name": "stdout",
     "output_type": "stream",
     "text": [
      "ip address 172.16.0.1 255.255.0.0\r\n",
      "R1(config-if)#\n"
     ]
    }
   ],
   "source": [
    "run('ip address 172.16.0.1 255.255.0.0')"
   ]
  },
  {
   "cell_type": "code",
   "execution_count": 55,
   "metadata": {},
   "outputs": [
    {
     "name": "stdout",
     "output_type": "stream",
     "text": [
      "no shutdown\r\n",
      "R1(config-if)#\n"
     ]
    }
   ],
   "source": [
    "run('no shutdown')"
   ]
  },
  {
   "cell_type": "code",
   "execution_count": 56,
   "metadata": {},
   "outputs": [
    {
     "name": "stdout",
     "output_type": "stream",
     "text": [
      "\r\n",
      "*Oct 16 06:50:02.155: %LINK-3-UPDOWN: Interface GigabitEthernet0/0, changed state to down\r\n",
      "R1(config-if)#\r\n",
      "*Oct 16 06:50:05.235: %LINK-3-UPDOWN: Interface GigabitEthernet0/0, changed state to up\r\n",
      "*Oct 16 06:50:06.235: %LINEPROTO-5-UPDOWN: Line protocol on Interface GigabitEthernet0/0, changed state to up\r\n",
      "R1(config-if)#exit\r\n",
      "R1(config)#\n"
     ]
    }
   ],
   "source": [
    "run('exit')"
   ]
  },
  {
   "cell_type": "code",
   "execution_count": 57,
   "metadata": {},
   "outputs": [
    {
     "name": "stdout",
     "output_type": "stream",
     "text": [
      "exit\r\n",
      "R1#\n"
     ]
    }
   ],
   "source": [
    "run('exit')"
   ]
  },
  {
   "cell_type": "markdown",
   "metadata": {},
   "source": [
    "## 手順10 GigabitEthernetの確認"
   ]
  },
  {
   "cell_type": "code",
   "execution_count": 60,
   "metadata": {},
   "outputs": [
    {
     "name": "stdout",
     "output_type": "stream",
     "text": [
      "show interfaces GigabitEthernet 0/0\r\n",
      "GigabitEthernet0/0 is up, line protocol is up \r\n",
      "  Hardware is CN Gigabit Ethernet, address is a0ec.f91d.44c0 (bia a0ec.f91d.44c0)\r\n",
      "  Description: R1 LAN Default Gateway\r\n",
      "  Internet address is 172.16.0.1/16\r\n",
      "  MTU 1500 bytes, BW 1000000 Kbit/sec, DLY 10 usec, \r\n",
      "     reliability 255/255, txload 1/255, rxload 1/255\r\n",
      "  Encapsulation ARPA, loopback not set\r\n",
      "  Keepalive set (10 sec)\r\n",
      "  Full Duplex, 1Gbps, media type is RJ45\r\n",
      "  output flow-control is XON, input flow-control is XON\r\n",
      "  ARP type: ARPA, ARP Timeout 04:00:00\r\n",
      "  Last input 00:00:17, output 00:00:17, output hang never\r\n",
      "  Last clearing of \"show interface\" counters never\r\n",
      "  Input queue: 0/75/0/0 (size/max/drops/flushes); \n"
     ]
    }
   ],
   "source": [
    "run('show interfaces GigabitEthernet 0/0')"
   ]
  },
  {
   "cell_type": "markdown",
   "metadata": {},
   "source": [
    "## 手順13 設定の保存"
   ]
  },
  {
   "cell_type": "code",
   "execution_count": 66,
   "metadata": {
    "scrolled": true
   },
   "outputs": [
    {
     "name": "stdout",
     "output_type": "stream",
     "text": [
      "\r\n",
      "R1#copy running-config startup-config\r\n",
      "Destination filename [startup-config]? \n"
     ]
    },
    {
     "data": {
      "text/plain": [
       "1"
      ]
     },
     "execution_count": 66,
     "metadata": {},
     "output_type": "execute_result"
    }
   ],
   "source": [
    "run('copy running-config startup-config')\n",
    "console.write(b'\\r')"
   ]
  },
  {
   "cell_type": "code",
   "execution_count": 67,
   "metadata": {
    "scrolled": false
   },
   "outputs": [
    {
     "name": "stdout",
     "output_type": "stream",
     "text": [
      "\r\n",
      "Building configuration...\r\n",
      "[OK]\r\n",
      "R1#sh run\r\n",
      "Building configuration...\r\n",
      "\r\n",
      "Current configuration : 1382 bytes\r\n",
      "!\r\n",
      "! Last configuration change at 06:50:41 UTC Mon Oct 16 2017\r\n",
      "version 15.3\r\n",
      "service timestamps debug datetime msec\r\n",
      "service timestamps log datetime msec\r\n",
      "no service password-encryption\r\n",
      "!\r\n",
      "hostname R1\r\n",
      "!\r\n",
      "boot-start-marker\r\n",
      "boot-end-marker\r\n",
      "!\r\n",
      "!\r\n",
      "enable secret 5 $1$qT36$FTjH3RRe05qqxiP.oEDMl1\r\n",
      "enable password cisco\r\n",
      "!\r\n",
      "no aaa new-model\r\n",
      "!\r\n",
      "!\r\n",
      "!\r\n",
      "!\r\n",
      " --More-- \n"
     ]
    }
   ],
   "source": [
    "run('sh run')"
   ]
  },
  {
   "cell_type": "markdown",
   "metadata": {},
   "source": [
    "## DHCPのなんかをする"
   ]
  },
  {
   "cell_type": "code",
   "execution_count": 83,
   "metadata": {},
   "outputs": [
    {
     "name": "stdout",
     "output_type": "stream",
     "text": [
      "\r\n",
      "*Oct 16 07:19:57.223: %SYS-5-CONFIG_I: Configured from console by console\r\n",
      "R1#configure terminal\r\n",
      "Enter configuration commands, one per line.  End with CNTL/Z.\r\n",
      "R1(config)#\n"
     ]
    }
   ],
   "source": [
    "run('configure terminal')"
   ]
  },
  {
   "cell_type": "code",
   "execution_count": 84,
   "metadata": {},
   "outputs": [
    {
     "name": "stdout",
     "output_type": "stream",
     "text": [
      "interface GigabitEthernet 0/0\r\n",
      "R1(config-if)#\n"
     ]
    }
   ],
   "source": [
    "run('interface GigabitEthernet 0/0')"
   ]
  },
  {
   "cell_type": "code",
   "execution_count": 85,
   "metadata": {
    "scrolled": false
   },
   "outputs": [
    {
     "name": "stdout",
     "output_type": "stream",
     "text": [
      "ip helper-address 172.16.0.1\r\n",
      "R1(config-if)#\n"
     ]
    }
   ],
   "source": [
    "run('ip helper-address 172.16.0.1')"
   ]
  },
  {
   "cell_type": "code",
   "execution_count": 86,
   "metadata": {},
   "outputs": [
    {
     "name": "stdout",
     "output_type": "stream",
     "text": [
      "ip dhcp excluded-address 172.16.0.1 172.16.0.9\r\n",
      "R1(config)#\n"
     ]
    }
   ],
   "source": [
    "run('ip dhcp excluded-address 172.16.0.1 172.16.0.9')"
   ]
  },
  {
   "cell_type": "code",
   "execution_count": 87,
   "metadata": {},
   "outputs": [
    {
     "name": "stdout",
     "output_type": "stream",
     "text": [
      "ip dhcp pool R1\r\n",
      "R1(dhcp-config)#\n"
     ]
    }
   ],
   "source": [
    "run('ip dhcp pool R1')"
   ]
  },
  {
   "cell_type": "code",
   "execution_count": 88,
   "metadata": {},
   "outputs": [
    {
     "name": "stdout",
     "output_type": "stream",
     "text": [
      "network 172.16.0.0 255.255.0.0\r\n",
      "R1(dhcp-config)#\n"
     ]
    }
   ],
   "source": [
    "run('network 172.16.0.0 255.255.0.0')"
   ]
  },
  {
   "cell_type": "code",
   "execution_count": 89,
   "metadata": {},
   "outputs": [
    {
     "name": "stdout",
     "output_type": "stream",
     "text": [
      "ip default-gateway 172.16.0.1\r\n",
      "R1(config)#\n"
     ]
    }
   ],
   "source": [
    "run('ip default-gateway 172.16.0.1')"
   ]
  },
  {
   "cell_type": "code",
   "execution_count": 90,
   "metadata": {},
   "outputs": [
    {
     "name": "stdout",
     "output_type": "stream",
     "text": [
      "exit\r\n",
      "R1#\n"
     ]
    }
   ],
   "source": [
    "run('exit')"
   ]
  },
  {
   "cell_type": "markdown",
   "metadata": {},
   "source": [
    "## 手順 16 エンドツーエンド接続をテストする"
   ]
  },
  {
   "cell_type": "code",
   "execution_count": 91,
   "metadata": {
    "scrolled": true
   },
   "outputs": [
    {
     "name": "stdout",
     "output_type": "stream",
     "text": [
      "\r\n",
      "*Oct 16 07:20:46.107: %SYS-5-CONFIG_I: Configured from console by console\r\n",
      "R1#ping 172.18.0.1\r\n",
      "Type escape sequence to abort.\r\n",
      "Sending 5, 100-byte ICMP Echos to 172.18.0.1, timeout is 2 seconds:\r\n",
      "\n"
     ]
    }
   ],
   "source": [
    "run('ping 172.18.0.1')"
   ]
  },
  {
   "cell_type": "markdown",
   "metadata": {},
   "source": [
    "## シリアル切断"
   ]
  },
  {
   "cell_type": "code",
   "execution_count": 101,
   "metadata": {},
   "outputs": [
    {
     "name": "stdout",
     "output_type": "stream",
     "text": [
      "enable\r\n",
      "Password: \n"
     ]
    }
   ],
   "source": [
    "run('enable')"
   ]
  },
  {
   "cell_type": "code",
   "execution_count": 102,
   "metadata": {},
   "outputs": [
    {
     "name": "stdout",
     "output_type": "stream",
     "text": [
      "\r\n",
      "Password: \n"
     ]
    }
   ],
   "source": [
    "run('cisco')"
   ]
  },
  {
   "cell_type": "code",
   "execution_count": 103,
   "metadata": {},
   "outputs": [
    {
     "name": "stdout",
     "output_type": "stream",
     "text": [
      "\r\n",
      "R1#\n"
     ]
    }
   ],
   "source": [
    "run('class')"
   ]
  },
  {
   "cell_type": "code",
   "execution_count": 104,
   "metadata": {},
   "outputs": [
    {
     "name": "stdout",
     "output_type": "stream",
     "text": [
      "erase startup-config\r\n",
      "Erasing the nvram filesystem will remove all configuration files! Continue? [confirm]\n",
      "\n"
     ]
    }
   ],
   "source": [
    "run('erase startup-config')\n",
    "console.write(b'\\r')\n",
    "print(console.read(console.inWaiting()).decode(\"utf-8\"))"
   ]
  },
  {
   "cell_type": "code",
   "execution_count": 106,
   "metadata": {},
   "outputs": [
    {
     "name": "stdout",
     "output_type": "stream",
     "text": [
      "\n",
      "\n",
      "*Oct 16 07:46:50.319: %SYS-5-RELOAD: Reload requested by console. Reload Reason: Reload Command.\n",
      "\n",
      "\n",
      "\n",
      "\n"
     ]
    }
   ],
   "source": [
    "run('reload')\n",
    "run('n')\n",
    "run('')\n",
    "run('n')\n",
    "run('')"
   ]
  },
  {
   "cell_type": "code",
   "execution_count": 107,
   "metadata": {},
   "outputs": [],
   "source": [
    "console.close()"
   ]
  },
  {
   "cell_type": "code",
   "execution_count": null,
   "metadata": {},
   "outputs": [],
   "source": []
  }
 ],
 "metadata": {
  "kernelspec": {
   "display_name": "Python 3",
   "language": "python",
   "name": "python3"
  },
  "language_info": {
   "codemirror_mode": {
    "name": "ipython",
    "version": 3
   },
   "file_extension": ".py",
   "mimetype": "text/x-python",
   "name": "python",
   "nbconvert_exporter": "python",
   "pygments_lexer": "ipython3",
   "version": "3.6.2"
  }
 },
 "nbformat": 4,
 "nbformat_minor": 2
}
