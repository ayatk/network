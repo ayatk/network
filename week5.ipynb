{
 "cells": [
  {
   "cell_type": "markdown",
   "metadata": {},
   "source": [
    "# Week5 スタティックルーティング"
   ]
  },
  {
   "cell_type": "markdown",
   "metadata": {},
   "source": [
    "ネットワーク構成\n",
    "\n",
    "```\n",
    "+----------------+  Gigabit Ethernat  +------------+\n",
    "|                |                    |            |\n",
    "|      PC1       +-------------------->     R1     |\n",
    "|                |                    |            |\n",
    "|   172.16.0.2   <--------------------+ 172.17.0.1 |\n",
    "|                |                    |            |\n",
    "+----------------+                    +------+-----+\n",
    "                                             |\n",
    "                                             |\n",
    "                                             |\n",
    "                                             | Serial 0/0/0\n",
    "                                             |\n",
    "                                             |\n",
    "                                             |\n",
    "+----------------+  Gigabit Ethernat  +------+-----+\n",
    "|                |                    |            |\n",
    "|      PC2       +-------------------->     R2     |\n",
    "|                |                    |            |\n",
    "|   172.18.0.2   <--------------------+ 172.17.0.2 |\n",
    "|                |                    |            |\n",
    "+----------------+                    +------------+\n",
    "```"
   ]
  },
  {
   "cell_type": "code",
   "execution_count": 1,
   "metadata": {},
   "outputs": [],
   "source": [
    "import serial\n",
    "import time"
   ]
  },
  {
   "cell_type": "code",
   "execution_count": 2,
   "metadata": {},
   "outputs": [],
   "source": [
    "def run(command, wait_time=1):\n",
    "    console.write(bytes(command, 'utf-8') + b'\\r')\n",
    "    time.sleep(wait_time)\n",
    "    print(console.read(console.inWaiting()).decode(\"utf-8\"))"
   ]
  },
  {
   "cell_type": "markdown",
   "metadata": {},
   "source": [
    "## 接続"
   ]
  },
  {
   "cell_type": "code",
   "execution_count": 3,
   "metadata": {},
   "outputs": [
    {
     "name": "stdout",
     "output_type": "stream",
     "text": [
      "\r\n",
      "R1#\n"
     ]
    }
   ],
   "source": [
    "console = serial.Serial('/dev/tty.usbserial-FTB3L9VU', 9200, timeout=0)\n",
    "time.sleep(1)\n",
    "run(\"\")"
   ]
  },
  {
   "cell_type": "code",
   "execution_count": 4,
   "metadata": {},
   "outputs": [
    {
     "name": "stdout",
     "output_type": "stream",
     "text": [
      "cisco\r\n",
      "Translating \"cisco\"\r\n",
      "\r\n",
      "% Bad IP address or host name\r\n",
      "Translating \"cisco\"\r\n",
      "\r\n",
      "% Unknown command or computer name, or unable to find computer address\r\n",
      "R1#\n"
     ]
    }
   ],
   "source": [
    "# ログインパスワード\n",
    "run(\"cisco\")"
   ]
  },
  {
   "cell_type": "code",
   "execution_count": 5,
   "metadata": {},
   "outputs": [
    {
     "name": "stdout",
     "output_type": "stream",
     "text": [
      "enable\r\n",
      "R1#\n"
     ]
    }
   ],
   "source": [
    "run(\"enable\")"
   ]
  },
  {
   "cell_type": "code",
   "execution_count": 6,
   "metadata": {},
   "outputs": [
    {
     "name": "stdout",
     "output_type": "stream",
     "text": [
      "class\r\n",
      "Translating \"class\"\r\n",
      "\r\n",
      "% Bad IP address or host name\r\n",
      "Translating \"class\"\r\n",
      "\r\n",
      "% Unknown command or computer name, or unable to find computer address\r\n",
      "R1#\n"
     ]
    }
   ],
   "source": [
    "run(\"class\")"
   ]
  },
  {
   "cell_type": "code",
   "execution_count": 7,
   "metadata": {},
   "outputs": [
    {
     "name": "stdout",
     "output_type": "stream",
     "text": [
      "configure terminal\r\n",
      "Enter configuration commands, one per line.  End with CNTL/Z.\r\n",
      "R1(config)#\n"
     ]
    }
   ],
   "source": [
    "run('configure terminal')"
   ]
  },
  {
   "cell_type": "markdown",
   "metadata": {},
   "source": [
    "## スタティックルーティングの設定"
   ]
  },
  {
   "cell_type": "markdown",
   "metadata": {},
   "source": [
    "`ip route` コマンドは第1引数に相手先ホストがあるネットワーク・アドレス、第2引数にはサブネットマスク、第3引数には途中のするルーターアドレスを指定する。"
   ]
  },
  {
   "cell_type": "code",
   "execution_count": 8,
   "metadata": {},
   "outputs": [
    {
     "name": "stdout",
     "output_type": "stream",
     "text": [
      "ip route 172.18.0.0 255.255.0.0 172.17.0.2\r\n",
      "R1(config)#\n"
     ]
    }
   ],
   "source": [
    "run(\"ip route 172.18.0.0 255.255.0.0 172.17.0.2\")"
   ]
  },
  {
   "cell_type": "code",
   "execution_count": 9,
   "metadata": {},
   "outputs": [
    {
     "name": "stdout",
     "output_type": "stream",
     "text": [
      "exit\r\n",
      "R1#\n"
     ]
    }
   ],
   "source": [
    "run(\"exit\")"
   ]
  },
  {
   "cell_type": "markdown",
   "metadata": {},
   "source": [
    "## ping確認"
   ]
  },
  {
   "cell_type": "code",
   "execution_count": 10,
   "metadata": {},
   "outputs": [
    {
     "name": "stdout",
     "output_type": "stream",
     "text": [
      "ping 172.16.0.2\r\n",
      "Type escape sequence to abort.\r\n",
      "Sending 5, 100-byte ICMP Echos to 172.16.0.2, timeout is 2 seconds:\r\n",
      "!!!!!\r\n",
      "Success rate is 100 percent (5/5), round-trip min/avg/max = 1/1/4 ms\r\n",
      "R1#\r\n",
      "*Oct 30 06:26:56.247: %SYS-5-CONFIG_I: Configured from console by console\r\n",
      "R1#\n"
     ]
    }
   ],
   "source": [
    "# R1 -> PC1\n",
    "run(\"ping 172.16.0.2\")"
   ]
  },
  {
   "cell_type": "code",
   "execution_count": 11,
   "metadata": {},
   "outputs": [
    {
     "name": "stdout",
     "output_type": "stream",
     "text": [
      "ping 172.18.0.1\r\n",
      "Type escape sequence to abort.\r\n",
      "Sending 5, 100-byte ICMP Echos to 172.18.0.1, timeout is 2 seconds:\r\n",
      "!!!!!\r\n",
      "Success rate is 100 percent (5/5), round-trip min/avg/max = 28/28/28 ms\r\n",
      "R1#\n"
     ]
    }
   ],
   "source": [
    "# R1 -> R2\n",
    "run(\"ping 172.18.0.1\")"
   ]
  },
  {
   "cell_type": "code",
   "execution_count": 12,
   "metadata": {},
   "outputs": [
    {
     "name": "stdout",
     "output_type": "stream",
     "text": [
      "ping 172.18.0.2\r\n",
      "Type escape sequence to abort.\r\n",
      "Sending 5, 100-byte ICMP Echos to 172.18.0.2, timeout is 2 seconds:\r\n",
      "!!!!!\r\n",
      "Success rate is 100 percent (5/5), round-trip min/avg/max = 28/28/28 ms\r\n",
      "R1#\n"
     ]
    }
   ],
   "source": [
    "# R1 -> PC2\n",
    "run(\"ping 172.18.0.2\")"
   ]
  },
  {
   "cell_type": "markdown",
   "metadata": {},
   "source": [
    "## 終了処理"
   ]
  },
  {
   "cell_type": "code",
   "execution_count": 13,
   "metadata": {},
   "outputs": [
    {
     "name": "stdout",
     "output_type": "stream",
     "text": [
      "copy running-config startup-config\n",
      "Destination filename [startup-config]? \n",
      "\n",
      "Building configuration...\n",
      "\n"
     ]
    }
   ],
   "source": [
    "run(\"copy running-config startup-config\")\n",
    "run(\"\")"
   ]
  },
  {
   "cell_type": "code",
   "execution_count": 14,
   "metadata": {},
   "outputs": [],
   "source": [
    "console.close()"
   ]
  }
 ],
 "metadata": {
  "kernelspec": {
   "display_name": "Python 3",
   "language": "python",
   "name": "python3"
  },
  "language_info": {
   "codemirror_mode": {
    "name": "ipython",
    "version": 3
   },
   "file_extension": ".py",
   "mimetype": "text/x-python",
   "name": "python",
   "nbconvert_exporter": "python",
   "pygments_lexer": "ipython3",
   "version": "3.6.2"
  }
 },
 "nbformat": 4,
 "nbformat_minor": 2
}
