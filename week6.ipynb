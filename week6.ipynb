{
 "cells": [
  {
   "cell_type": "markdown",
   "metadata": {},
   "source": [
    "# week6"
   ]
  },
  {
   "cell_type": "code",
   "execution_count": 3,
   "metadata": {},
   "outputs": [],
   "source": [
    "import serial\n",
    "import time"
   ]
  },
  {
   "cell_type": "code",
   "execution_count": 4,
   "metadata": {},
   "outputs": [],
   "source": [
    "def run(command, wait_time=1):\n",
    "    console.write(bytes(command, 'utf-8') + b'\\r')\n",
    "    time.sleep(wait_time)\n",
    "    print(console.read(console.inWaiting()).decode(\"utf-8\"))"
   ]
  },
  {
   "cell_type": "code",
   "execution_count": 5,
   "metadata": {},
   "outputs": [
    {
     "name": "stdout",
     "output_type": "stream",
     "text": [
      "Unauthorized Use Prohibited\r\n",
      "\r\n",
      "User Access Verification\r\n",
      "\r\n",
      "Password: \n"
     ]
    }
   ],
   "source": [
    "console = serial.Serial('/dev/tty.usbserial-FTYIAR5X', 9400, timeout=0)\n",
    "time.sleep(1)\n",
    "run(\"\")"
   ]
  },
  {
   "cell_type": "code",
   "execution_count": 6,
   "metadata": {},
   "outputs": [
    {
     "name": "stdout",
     "output_type": "stream",
     "text": [
      "\r\n",
      "R1>\n"
     ]
    }
   ],
   "source": [
    "run(\"cisco\")"
   ]
  },
  {
   "cell_type": "code",
   "execution_count": 5,
   "metadata": {},
   "outputs": [
    {
     "name": "stdout",
     "output_type": "stream",
     "text": [
      "ping 172.17.0.2\r\n",
      "Type escape sequence to abort.\r\n",
      "Sending 5, 100-byte ICMP Echos to 172.17.0.2, timeout is 2 seconds:\r\n",
      "!!!!!\r\n",
      "Success rate is 100 percent (5/5), round-trip min/avg/max = 28/28/28 ms\r\n",
      "R1#\n"
     ]
    }
   ],
   "source": [
    "run(\"ping 172.17.0.2\")"
   ]
  },
  {
   "cell_type": "code",
   "execution_count": 6,
   "metadata": {},
   "outputs": [
    {
     "name": "stdout",
     "output_type": "stream",
     "text": [
      "ping 172.16.0.2\r\n",
      "Type escape sequence to abort.\r\n",
      "Sending 5, 100-byte ICMP Echos to 172.16.0.2, timeout is 2 seconds:\r\n",
      "!!!!!\r\n",
      "Success rate is 100 percent (5/5), round-trip min/avg/max = 1/1/4 ms\r\n",
      "R1#\n"
     ]
    }
   ],
   "source": [
    "run(\"ping 172.16.0.2\")"
   ]
  },
  {
   "cell_type": "code",
   "execution_count": 7,
   "metadata": {},
   "outputs": [
    {
     "name": "stdout",
     "output_type": "stream",
     "text": [
      "ping 172.17.0.2\r\n",
      "Type escape sequence to abort.\r\n",
      "Sending 5, 100-byte ICMP Echos to 172.17.0.2, timeout is 2 seconds:\r\n",
      "!!!!!\r\n",
      "Success rate is 100 percent (5/5), round-trip min/avg/max = 28/28/28 ms\r\n",
      "R1#\n"
     ]
    }
   ],
   "source": [
    "run(\"ping 172.17.0.2\")"
   ]
  },
  {
   "cell_type": "code",
   "execution_count": 8,
   "metadata": {},
   "outputs": [
    {
     "name": "stdout",
     "output_type": "stream",
     "text": [
      "ping 172.18.0.2\r\n",
      "Type escape sequence to abort.\r\n",
      "Sending 5, 100-byte ICMP Echos to 172.18.0.2, timeout is 2 seconds:\r\n",
      "!!!!!\r\n",
      "Success rate is 100 percent (5/5), round-trip min/avg/max = 28/28/32 ms\r\n",
      "R1#\n"
     ]
    }
   ],
   "source": [
    "run(\"ping 172.18.0.2\")"
   ]
  },
  {
   "cell_type": "code",
   "execution_count": 9,
   "metadata": {},
   "outputs": [
    {
     "name": "stdout",
     "output_type": "stream",
     "text": [
      "PING 172.17.0.2 (172.17.0.2): 56 data bytes\r\n",
      "64 bytes from 172.17.0.2: icmp_seq=0 ttl=254 time=24.105 ms\r\n",
      "64 bytes from 172.17.0.2: icmp_seq=1 ttl=254 time=24.226 ms\r\n",
      "64 bytes from 172.17.0.2: icmp_seq=2 ttl=254 time=24.044 ms\r\n",
      "64 bytes from 172.17.0.2: icmp_seq=3 ttl=254 time=24.180 ms\r\n",
      "64 bytes from 172.17.0.2: icmp_seq=4 ttl=254 time=24.227 ms\r\n",
      "\r\n",
      "--- 172.17.0.2 ping statistics ---\r\n",
      "5 packets transmitted, 5 packets received, 0.0% packet loss\r\n",
      "round-trip min/avg/max/stddev = 24.044/24.156/24.227/0.072 ms\r\n"
     ]
    }
   ],
   "source": [
    "!ping -c 5 172.17.0.2"
   ]
  },
  {
   "cell_type": "code",
   "execution_count": 17,
   "metadata": {},
   "outputs": [
    {
     "name": "stdout",
     "output_type": "stream",
     "text": [
      "sh ip route\r\n",
      "Codes: L - local, C - connected, S - static, R - RIP, M - mobile, B - BGP\r\n",
      "       D - EIGRP, EX - EIGRP external, O - OSPF, IA - OSPF inter area \r\n",
      "       N1 - OSPF NSSA external type 1, N2 - OSPF NSSA external type 2\r\n",
      "       E1 - OSPF external type 1, E2 - OSPF external type 2\r\n",
      "       i - IS-IS, su - IS-IS summary, L1 - IS-IS level-1, L2 - IS-IS level-2\r\n",
      "       ia - IS-IS inter area, * - candidate default, U - per-user static route\r\n",
      "       o - ODR, P - periodic downloaded static route, H - NHRP, l - LISP\r\n",
      "       a - application route\r\n",
      "       + - replicated route, % - next hop override\r\n",
      "\r\n",
      "Gateway of last resort is not set\r\n",
      "\r\n",
      "      172.16.0.0/16 is variably subnetted, 2 subnets, 2 masks\r\n",
      "C        172.16.0.0/16 is directly connected, GigabitEthernet0/0\r\n",
      "L        172.16.0.1/32 is directly connected, GigabitEthernet0/0\r\n",
      "      172.17.0.0/16 is variably\n"
     ]
    }
   ],
   "source": [
    "run(\"sh ip route\")"
   ]
  },
  {
   "cell_type": "code",
   "execution_count": 18,
   "metadata": {},
   "outputs": [
    {
     "name": "stdout",
     "output_type": "stream",
     "text": [
      " subnetted, 2 subnets, 2 masks\r\n",
      "C        172.17.0.0/16 is directly connected, Serial0/0/0\r\n",
      "L        172.17.0.1/32 is directly connected, Serial0/0/0\r\n",
      "R     172.18.0.0/16 [120/1] via 172.17.0.2, 00:00:05, Serial0/0/0\r\n",
      "R1#\r\n",
      "*Nov  6 06:06:00.731: %IP-3-LOOPPAK: Looping packet detected and dropped -\r\n",
      "src=172.16.0.2, dst=172.16.0.1, hl=20, tl=96, prot=17, sport=137, dport=137\r\n",
      "in=GigabitEthernet0/0, nexthop=172.16.0.1, out=GigabitEthernet0/0\r\n",
      "options=none -Process= \"IP Input\", ipl= 0, pid= 161\r\n",
      "-Traceback= 22F9AAACz 21159E60z 2115A504z 2115B398z 2115B878z 23362330z 233624C8z 2335E770z 211548DCz 2115C764z 21155ED0z 21156158z 21156238z 21156474z 240A9F2Cz 240A9F10z\r\n",
      "R1#enable\r\n",
      "R1#\n"
     ]
    }
   ],
   "source": [
    "run(\"enable\")"
   ]
  },
  {
   "cell_type": "code",
   "execution_count": 19,
   "metadata": {},
   "outputs": [
    {
     "name": "stdout",
     "output_type": "stream",
     "text": [
      "class\r\n",
      "Translating \"class\"\r\n",
      "\r\n",
      "% Bad IP address or host name\r\n",
      "Translating \"class\"\r\n",
      "\r\n",
      "% Unknown command or computer name, or unable to find computer address\r\n",
      "R1#\n"
     ]
    }
   ],
   "source": [
    "run(\"class\")"
   ]
  },
  {
   "cell_type": "code",
   "execution_count": 20,
   "metadata": {},
   "outputs": [
    {
     "name": "stdout",
     "output_type": "stream",
     "text": [
      "configure terminal\r\n",
      "Enter configuration commands, one per line.  End with CNTL/Z.\r\n",
      "R1(config)#\n"
     ]
    }
   ],
   "source": [
    "run('configure terminal')"
   ]
  },
  {
   "cell_type": "code",
   "execution_count": 21,
   "metadata": {},
   "outputs": [
    {
     "name": "stdout",
     "output_type": "stream",
     "text": [
      "no ip route 172.18.0.0 255.255.0.0 172.17.0.2\r\n",
      "%No matching route to delete\r\n",
      "R1(config)#\n"
     ]
    }
   ],
   "source": [
    "run(\"no ip route 172.18.0.0 255.255.0.0 172.17.0.2\")"
   ]
  },
  {
   "cell_type": "code",
   "execution_count": 22,
   "metadata": {},
   "outputs": [
    {
     "name": "stdout",
     "output_type": "stream",
     "text": [
      "router rip\r\n",
      "R1(config-router)#\n"
     ]
    }
   ],
   "source": [
    "run(\"router rip\")"
   ]
  },
  {
   "cell_type": "code",
   "execution_count": 23,
   "metadata": {},
   "outputs": [
    {
     "name": "stdout",
     "output_type": "stream",
     "text": [
      "version 2\r\n",
      "R1(config-router)#\n"
     ]
    }
   ],
   "source": [
    "run(\"version 2\")"
   ]
  },
  {
   "cell_type": "code",
   "execution_count": 24,
   "metadata": {},
   "outputs": [
    {
     "name": "stdout",
     "output_type": "stream",
     "text": [
      "network 172.16.0.0\r\n",
      "R1(config-router)#\n"
     ]
    }
   ],
   "source": [
    "run(\"network 172.16.0.0\")"
   ]
  },
  {
   "cell_type": "code",
   "execution_count": 25,
   "metadata": {},
   "outputs": [
    {
     "name": "stdout",
     "output_type": "stream",
     "text": [
      "network 172.17.0.0\r\n",
      "R1(config-router)#\n"
     ]
    }
   ],
   "source": [
    "run(\"network 172.17.0.0\")"
   ]
  },
  {
   "cell_type": "code",
   "execution_count": 26,
   "metadata": {},
   "outputs": [
    {
     "name": "stdout",
     "output_type": "stream",
     "text": [
      "exit\r\n",
      "R1(config)#\n"
     ]
    }
   ],
   "source": [
    "run(\"exit\")"
   ]
  },
  {
   "cell_type": "code",
   "execution_count": 27,
   "metadata": {},
   "outputs": [
    {
     "name": "stdout",
     "output_type": "stream",
     "text": [
      "exit\r\n",
      "R1#\n"
     ]
    }
   ],
   "source": [
    "run(\"exit\")"
   ]
  },
  {
   "cell_type": "code",
   "execution_count": 28,
   "metadata": {},
   "outputs": [
    {
     "name": "stdout",
     "output_type": "stream",
     "text": [
      "show interface GigabitEthernet 0/0\r\n",
      "GigabitEthernet0/0 is up, line protocol is up \r\n",
      "  Hardware is CN Gigabit Ethernet, address is a0ec.f91d.44c0 (bia a0ec.f91d.44c0)\r\n",
      "  Description: R1 LAN Default Gateway\r\n",
      "  Internet address is 172.16.0.1/16\r\n",
      "  MTU 1500 bytes, BW 1000000 Kbit/sec, DLY 10 usec, \r\n",
      "     reliability 255/255, txload 1/255, rxload 1/255\r\n",
      "  Encapsulation ARPA, loopback not set\r\n",
      "  Keepalive set (10 sec)\r\n",
      "  Full Duplex, 1Gbps, media type is RJ45\r\n",
      "  output flow-control is XON, input flow-control is XON\r\n",
      "  ARP type: ARPA, ARP Timeout 04:00:00\r\n",
      "  Last input 00:05:23, output 00:03:33, output hang never\r\n",
      "  Last clearing of \"show interface\" counters never\r\n",
      "  Input queue: 0/75/0/0 (size/max/drops/flushes); Total output drops: 0\r\n",
      "  Queueing strategy: fifo\r\n",
      "  Output queue: 0/40 (size/max)\r\n",
      "  5 minute input rate 0 bits/sec, 0 packets/sec\r\n",
      "  5 minute out\n"
     ]
    }
   ],
   "source": [
    "run(\"show interface GigabitEthernet 0/0\")"
   ]
  },
  {
   "cell_type": "code",
   "execution_count": 34,
   "metadata": {},
   "outputs": [
    {
     "name": "stdout",
     "output_type": "stream",
     "text": [
      "[OK]\r\n",
      "R1#show ip route\r\n",
      "Codes: L - local, C - connected, S - static, R - RIP, M - mobile, B - BGP\r\n",
      "       D - EIGRP, EX - EIGRP external, O - OSPF, IA - OSPF inter area \r\n",
      "       N1 - OSPF NSSA external type 1, N2 - OSPF NSSA external type 2\r\n",
      "       E1 - OSPF external type 1, E2 - OSPF external type 2\r\n",
      "       i - IS-IS, su - IS-IS summary, L1 - IS-IS level-1, L2 - IS-IS level-2\r\n",
      "       ia - IS-IS inter area, * - candidate default, U - per-user static route\r\n",
      "       o - ODR, P - periodi\n"
     ]
    }
   ],
   "source": [
    "run(\"show ip route\")"
   ]
  },
  {
   "cell_type": "code",
   "execution_count": 35,
   "metadata": {},
   "outputs": [
    {
     "name": "stdout",
     "output_type": "stream",
     "text": [
      "c downloaded static route, H - NHRP, l - LISP\r\n",
      "       a - application route\r\n",
      "       + - replicated route, % - next hop override\r\n",
      "\r\n",
      "Gateway of last resort is not set\r\n",
      "\r\n",
      "      172.16.0.0/16 is variably subnetted, 2 subnets, 2 masks\r\n",
      "C        172.16.0.0/16 is directly connected, GigabitEthernet0/0\r\n",
      "L        172.16.0.1/32 is directly connected, GigabitEthernet0/0\r\n",
      "      172.17.0.0/16 is variably subnetted, 2 subnets, 2 masks\r\n",
      "C        172.17.0.0/16 is directly connected, Serial0/0/0\r\n",
      "L        172.17.0.1/32 is directly connected, Serial0/0/0\r\n",
      "R     172.18.0.0/16 [120/1] via 172.17.0.2, 00:00:10, Serial0/0/0\r\n",
      "R1#show ip route\r\n",
      "Codes: L - local, C - connected, S - static, R - RIP, M - mobile, B - BGP\r\n",
      "       D - EIGRP, EX - EIGRP external, O - OSPF, IA - OSPF inter area \r\n",
      "       N1 - OSPF NSSA external type 1, N2 - OSPF NSSA external type 2\r\n",
      "       E1 - OSPF external type 1,\n"
     ]
    }
   ],
   "source": [
    "run(\"ping 172.18.0.1\")"
   ]
  },
  {
   "cell_type": "code",
   "execution_count": 36,
   "metadata": {},
   "outputs": [
    {
     "name": "stdout",
     "output_type": "stream",
     "text": [
      "PING 172.18.0.2 (172.18.0.2): 56 data bytes\r\n",
      "Request timeout for icmp_seq 0\r\n",
      "Request timeout for icmp_seq 1\r\n",
      "Request timeout for icmp_seq 2\r\n",
      "Request timeout for icmp_seq 3\r\n",
      "\r\n",
      "--- 172.18.0.2 ping statistics ---\r\n",
      "5 packets transmitted, 0 packets received, 100.0% packet loss\r\n"
     ]
    }
   ],
   "source": [
    "!ping -c 5 172.18.0.2"
   ]
  },
  {
   "cell_type": "code",
   "execution_count": 32,
   "metadata": {},
   "outputs": [
    {
     "name": "stdout",
     "output_type": "stream",
     "text": [
      "copy running-config startup-config\r\n",
      "Destination filename [startup-config]? \n",
      "\r\n",
      "Building configuration...\r\n",
      "\n"
     ]
    }
   ],
   "source": [
    "run(\"copy running-config startup-config\")\n",
    "run(\"\")"
   ]
  },
  {
   "cell_type": "code",
   "execution_count": 9,
   "metadata": {},
   "outputs": [
    {
     "name": "stdout",
     "output_type": "stream",
     "text": [
      "enable\r\n",
      "R1#\n",
      "class\r\n",
      "Translating \"class\"\r\n",
      "\r\n",
      "% Bad IP address or host name\r\n",
      "Translating \"class\"\r\n",
      "\r\n",
      "% Unknown command or computer name, or unable to find computer address\r\n",
      "R1#\n",
      "erase startup-config\r\n",
      "Erasing the nvram filesystem will remove all configuration files! Continue? [confirm]\n",
      "\n"
     ]
    }
   ],
   "source": [
    "run(\"enable\")\n",
    "run(\"class\")\n",
    "run(\"erase startup-config\")\n",
    "run(\"\")"
   ]
  },
  {
   "cell_type": "code",
   "execution_count": 10,
   "metadata": {},
   "outputs": [],
   "source": [
    "console.close()"
   ]
  },
  {
   "cell_type": "code",
   "execution_count": null,
   "metadata": {},
   "outputs": [],
   "source": []
  }
 ],
 "metadata": {
  "kernelspec": {
   "display_name": "Python 3",
   "language": "python",
   "name": "python3"
  },
  "language_info": {
   "codemirror_mode": {
    "name": "ipython",
    "version": 3
   },
   "file_extension": ".py",
   "mimetype": "text/x-python",
   "name": "python",
   "nbconvert_exporter": "python",
   "pygments_lexer": "ipython3",
   "version": "3.6.2"
  }
 },
 "nbformat": 4,
 "nbformat_minor": 2
}
